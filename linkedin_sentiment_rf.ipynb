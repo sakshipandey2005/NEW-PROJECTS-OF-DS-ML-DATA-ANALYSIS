{
 "cells": [
  {
   "cell_type": "markdown",
   "id": "eba11974",
   "metadata": {},
   "source": [
    "# Sentiment Analysis using Random Forest\n",
    "This notebook demonstrates sentiment analysis on simulated LinkedIn post data using the Random Forest algorithm."
   ]
  },
  {
   "cell_type": "code",
   "execution_count": null,
   "id": "6565be4a",
   "metadata": {},
   "outputs": [],
   "source": [
    "# Step 1: Import Libraries\n",
    "import pandas as pd\n",
    "from sklearn.model_selection import train_test_split\n",
    "from sklearn.feature_extraction.text import TfidfVectorizer\n",
    "from sklearn.ensemble import RandomForestClassifier\n",
    "from sklearn.metrics import classification_report, confusion_matrix\n",
    "import matplotlib.pyplot as plt\n",
    "import seaborn as sns"
   ]
  },
  {
   "cell_type": "code",
   "execution_count": null,
   "id": "fac2859d",
   "metadata": {},
   "outputs": [],
   "source": [
    "# Step 2: Simulated LinkedIn-style Sentiment Data\n",
    "data = {\n",
    "    'text': [\n",
    "        \"I love how data science is changing the world!\",\n",
    "        \"Feeling confused about my career direction.\",\n",
    "        \"Great networking event on LinkedIn yesterday!\",\n",
    "        \"Not happy with the current job market trends.\",\n",
    "        \"Excited to start my new data analyst role!\",\n",
    "        \"This article was hard to follow and too technical.\",\n",
    "        \"Enjoying the connections and opportunities here.\",\n",
    "        \"Disappointed by the lack of response on applications.\",\n",
    "        \"Proud to share that I completed a certification today!\",\n",
    "        \"The experience was underwhelming and poorly managed.\"\n",
    "    ],\n",
    "    'sentiment': ['Positive', 'Negative', 'Positive', 'Negative', 'Positive', \n",
    "                  'Negative', 'Positive', 'Negative', 'Positive', 'Negative']\n",
    "}\n",
    "df = pd.DataFrame(data)\n",
    "df.head()"
   ]
  },
  {
   "cell_type": "code",
   "execution_count": null,
   "id": "713c6fdb",
   "metadata": {},
   "outputs": [],
   "source": [
    "# Step 3: Train/Test Split\n",
    "X_train, X_test, y_train, y_test = train_test_split(df['text'], df['sentiment'], test_size=0.2, random_state=42)"
   ]
  },
  {
   "cell_type": "code",
   "execution_count": null,
   "id": "59a99d4f",
   "metadata": {},
   "outputs": [],
   "source": [
    "# Step 4: TF-IDF Vectorization\n",
    "tfidf = TfidfVectorizer(stop_words='english')\n",
    "X_train_vec = tfidf.fit_transform(X_train)\n",
    "X_test_vec = tfidf.transform(X_test)"
   ]
  },
  {
   "cell_type": "code",
   "execution_count": null,
   "id": "69203493",
   "metadata": {},
   "outputs": [],
   "source": [
    "# Step 5: Train Random Forest Classifier\n",
    "model = RandomForestClassifier(n_estimators=100, random_state=42)\n",
    "model.fit(X_train_vec, y_train)\n",
    "y_pred = model.predict(X_test_vec)"
   ]
  },
  {
   "cell_type": "code",
   "execution_count": null,
   "id": "71c50eb5",
   "metadata": {},
   "outputs": [],
   "source": [
    "# Step 6: Evaluation\n",
    "print(\"Classification Report:\")\n",
    "print(classification_report(y_test, y_pred))"
   ]
  },
  {
   "cell_type": "code",
   "execution_count": null,
   "id": "69ef0f4e",
   "metadata": {},
   "outputs": [],
   "source": [
    "# Step 7: Confusion Matrix\n",
    "conf_matrix = confusion_matrix(y_test, y_pred)\n",
    "sns.heatmap(conf_matrix, annot=True, fmt='d', cmap='Blues', xticklabels=model.classes_, yticklabels=model.classes_)\n",
    "plt.xlabel(\"Predicted\")\n",
    "plt.ylabel(\"Actual\")\n",
    "plt.title(\"Confusion Matrix\")\n",
    "plt.show()"
   ]
  }
 ],
 "metadata": {},
 "nbformat": 4,
 "nbformat_minor": 5
}